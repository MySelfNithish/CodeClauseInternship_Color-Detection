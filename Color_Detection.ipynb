{
  "nbformat": 4,
  "nbformat_minor": 0,
  "metadata": {
    "colab": {
      "provenance": [],
      "authorship_tag": "ABX9TyPNvz4P302IYlHAzgk9j3a0",
      "include_colab_link": true
    },
    "kernelspec": {
      "name": "python3",
      "display_name": "Python 3"
    },
    "language_info": {
      "name": "python"
    }
  },
  "cells": [
    {
      "cell_type": "markdown",
      "metadata": {
        "id": "view-in-github",
        "colab_type": "text"
      },
      "source": [
        "<a href=\"https://colab.research.google.com/github/MySelfNithish/CodeClauseInternship_Color-Detection/blob/main/Color_Detection.ipynb\" target=\"_parent\"><img src=\"https://colab.research.google.com/assets/colab-badge.svg\" alt=\"Open In Colab\"/></a>"
      ]
    },
    {
      "cell_type": "code",
      "execution_count": 1,
      "metadata": {
        "id": "kNztcFNgwic-"
      },
      "outputs": [],
      "source": [
        "import cv2\n",
        "import pandas as pd"
      ]
    },
    {
      "cell_type": "code",
      "source": [
        "img_path = \"../input/color-detection-data-set/colorpic.jpg\"\n",
        "img = cv2.imread(img_path)"
      ],
      "metadata": {
        "id": "ov64VCcvwuBx"
      },
      "execution_count": 2,
      "outputs": []
    },
    {
      "cell_type": "code",
      "source": [
        "index=[\"color\",\"color_name\",\"hex\",\"R\",\"G\",\"B\"]\n",
        "csv = pd.read_csv('colors.csv', names=index, header=None)"
      ],
      "metadata": {
        "id": "La_j5b23wuEg"
      },
      "execution_count": 3,
      "outputs": []
    },
    {
      "cell_type": "code",
      "source": [
        "def getColorName(R,G,B):\n",
        "    minimum = 1000\n",
        "    for i in range(len(csv)):\n",
        "        d = abs(R- int(csv.loc[i,\"R\"])) + abs(G- int(csv.loc[i,\"G\"]))+ abs(B- int(csv.loc[i,\"B\"]))\n",
        "        if(d<minimum):\n",
        "            minimum = d\n",
        "            color_name = csv.loc[i,\"color_name\"]\n",
        "    return color_name\n"
      ],
      "metadata": {
        "id": "LuDhxhvDwuG4"
      },
      "execution_count": 4,
      "outputs": []
    },
    {
      "cell_type": "code",
      "source": [
        "clicked = False\n",
        "r = g = b = xpos = ypos = 0"
      ],
      "metadata": {
        "id": "NUXMfQVpwuJb"
      },
      "execution_count": 5,
      "outputs": []
    },
    {
      "cell_type": "code",
      "source": [
        "def draw_function(event, x,y,flags,param):\n",
        "    if event == cv2.EVENT_LBUTTONDBLCLK:\n",
        "        global b,g,r,xpos,ypos, clicked\n",
        "        clicked = True\n",
        "        xpos = x\n",
        "        ypos = y\n",
        "        b,g,r = img[y,x]\n",
        "        b = int(b)\n",
        "        g = int(g)\n",
        "        r = int(r)"
      ],
      "metadata": {
        "id": "FYPUdbkswuLo"
      },
      "execution_count": 6,
      "outputs": []
    },
    {
      "cell_type": "code",
      "source": [
        "cv2.namedWindow('color detection')\n",
        "cv2.setMouseCallback('color detection',draw_function)"
      ],
      "metadata": {
        "id": "2eC4Y4rQwuOY"
      },
      "execution_count": null,
      "outputs": []
    },
    {
      "cell_type": "code",
      "source": [
        "while(1):\n",
        "\n",
        "    cv2.imshow(\"color detection\",img)\n",
        "    if (clicked):\n",
        "        #cv2.rectangle(image, startpoint, endpoint, color, thickness)-1 fills entire rectangle\n",
        "        cv2.rectangle(img,(20,20), (750,60), (b,g,r), -1)\n",
        "        color_name = getColorName(r,g,b) + ' R='+ str(r) +  ' G='+ str(g) +  ' B='+ str(b)\n",
        "        #cv2.putText(img,text,start,font(0-7),fontScale,color,thickness,lineType )\n",
        "        cv2.putText(img, color_name,(50,50),2,0.8,(255,255,255),2,cv2.LINE_AA)\n",
        "        #For very light colours we will display text in black colour\n",
        "        if(r+g+b>=600):\n",
        "            cv2.putText(img, color_name,(50,50),2,0.8,(0,0,0),2,cv2.LINE_AA)\n",
        "\n",
        "        clicked=False\n",
        "    #when user hit esc\n",
        "    if cv2.waitKey(20) & 0xFF ==27:\n",
        "        break\n",
        "\n",
        "cv2.destroyAllWindows()"
      ],
      "metadata": {
        "id": "Y7YH1oFUwuRB"
      },
      "execution_count": null,
      "outputs": []
    },
    {
      "cell_type": "code",
      "source": [
        "import numpy as np\n",
        "hsv = cv2.cvtColor(img, cv2.COLOR_BGR2HSV)\n",
        "color = np.uint8([[[b,g,r]]])\n",
        "hsv_color = cv2.cvtColor(color,cv2.COLOR_BGR2HSV)\n",
        "lower_range = np.array([hsv_color[0][0][0] - 10,100,100])\n",
        "upper_range = np.array([hsv_color[0][0][0] + 10,255,255])\n",
        "\n",
        "mask = cv2.inRange(hsv, lower_range, upper_range)\n",
        "\n",
        "cv2.imshow('mask', mask)\n",
        "cv2.waitKey(0)\n",
        "cv2.destroyAllWindows()"
      ],
      "metadata": {
        "id": "hHnuE3Xlw9Ix"
      },
      "execution_count": null,
      "outputs": []
    }
  ]
}